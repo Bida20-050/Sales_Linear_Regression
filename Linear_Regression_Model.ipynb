{
 "cells": [
  {
   "cell_type": "code",
   "execution_count": null,
   "id": "3f5cdad1",
   "metadata": {},
   "outputs": [],
   "source": [
    "#import necessary libraries\n",
    "import pandas as pd\n",
    "import datetime\n",
    "import sklearn as sk\n",
    "from sklearn.linear_model import LinearRegression\n",
    "from sklearn.metrics import mean_squared_error\n",
    "from sklearn.model_selection import train_test_split\n",
    "import matplotlib.pyplot as plt"
   ]
  },
  {
   "cell_type": "markdown",
   "id": "77d06990",
   "metadata": {},
   "source": [
    "<p style=\"font-size:19px\">\n",
    "    AIM : utilizing Sales Data with aims of prediciting how <u>one product</u> will perform on a specified date.<br>\n",
    "    <br>A linear regression model can assist in making optimized and effective decisions that best benefit retail.\n",
    "    <br><ul style=\"font-size:19px\">\n",
    "    <li>Supply and Demand: If knowing the price of a product will increase in the future, you can increase the current price to take advavantage of higher profit margins. Similarly, if predicted price will be lower in the future, prices can be currently lowered nowto avoid markdowns and overstocking. </li></ul></p>"
   ]
  },
  {
   "cell_type": "markdown",
   "id": "6593e12d",
   "metadata": {},
   "source": [
    "### read Sep 2022 - May 2023 data (9 months-worth)"
   ]
  },
  {
   "cell_type": "markdown",
   "id": "6f504a53",
   "metadata": {},
   "source": [
    "### A linear regression i created that utilized 22GB worth of Data"
   ]
  },
  {
   "cell_type": "code",
   "execution_count": 3,
   "id": "e1747cb7",
   "metadata": {},
   "outputs": [],
   "source": [
    "sep_22_df = pd.read_csv(\"../data/cleaned_SALES_2022_SEP.csv\", index_col=0, low_memory= False)"
   ]
  },
  {
   "cell_type": "code",
   "execution_count": 4,
   "id": "3b4596e8",
   "metadata": {},
   "outputs": [],
   "source": [
    "oct_22_df = pd.read_csv(\"../data/cleaned_SALES_2022_OCT.csv\", index_col=0, low_memory= False)"
   ]
  },
  {
   "cell_type": "code",
   "execution_count": 5,
   "id": "72761a99",
   "metadata": {},
   "outputs": [],
   "source": [
    "nov_22_df = pd.read_csv(\"../data/cleaned_SALES_2022_NOV.csv\", index_col=0, low_memory= False)"
   ]
  },
  {
   "cell_type": "code",
   "execution_count": 6,
   "id": "de4f81ad",
   "metadata": {},
   "outputs": [],
   "source": [
    "dec_22_df = pd.read_csv(\"../data/cleaned_SALES_2022_DEC.csv\", index_col=0, low_memory= False)"
   ]
  },
  {
   "cell_type": "code",
   "execution_count": 7,
   "id": "ba2339e2",
   "metadata": {},
   "outputs": [],
   "source": [
    "jan_df = pd.read_csv(\"../data/cleaned_SALES_2023_JAN.csv\", index_col=0, low_memory= False)"
   ]
  },
  {
   "cell_type": "code",
   "execution_count": 8,
   "id": "f576c562",
   "metadata": {},
   "outputs": [],
   "source": [
    "feb_df = pd.read_csv(\"../data/cleaned_SALES_2023_FEB.csv\", index_col=0, low_memory= False)"
   ]
  },
  {
   "cell_type": "code",
   "execution_count": 9,
   "id": "2c6fc803",
   "metadata": {},
   "outputs": [],
   "source": [
    "march_df = pd.read_csv(\"../data/cleaned_SALES_2023_MARCH.csv\", index_col=0, low_memory= False)"
   ]
  },
  {
   "cell_type": "code",
   "execution_count": 10,
   "id": "b05bb2fe",
   "metadata": {},
   "outputs": [],
   "source": [
    "april_df = pd.read_csv(\"../data/cleaned_SALES_2023_April.csv\", index_col=0, low_memory= False)"
   ]
  },
  {
   "cell_type": "code",
   "execution_count": null,
   "id": "067a38e5",
   "metadata": {},
   "outputs": [],
   "source": [
    "may_df = pd.read_csv(\"../data/CLEANED_SALES_2023_MAY.csv\", index_col=0, low_memory= False)"
   ]
  },
  {
   "cell_type": "markdown",
   "id": "d1a24476",
   "metadata": {},
   "source": [
    "#### Merge the datasets"
   ]
  },
  {
   "cell_type": "code",
   "execution_count": null,
   "id": "1cf6c26a",
   "metadata": {},
   "outputs": [],
   "source": [
    "sep_april_data =pd.concat([jan_df,feb_df,march_df, april_df,nov_22_df,dec_22_df, sep_22_df, oct_22_df])"
   ]
  },
  {
   "cell_type": "markdown",
   "id": "399bfbfa",
   "metadata": {},
   "source": [
    "### Cleaning The Dataset"
   ]
  },
  {
   "cell_type": "markdown",
   "id": "1e29eebb",
   "metadata": {},
   "source": [
    "#### remove negative sales"
   ]
  },
  {
   "cell_type": "code",
   "execution_count": 12,
   "id": "f9528bae",
   "metadata": {},
   "outputs": [],
   "source": [
    "sep_april_data = sep_april_data[sep_april_data['BST_TOTAL_RETAIL'] >= 0]"
   ]
  },
  {
   "cell_type": "code",
   "execution_count": 13,
   "id": "05fc0257",
   "metadata": {},
   "outputs": [
    {
     "data": {
      "text/plain": [
       "(176283913, 18)"
      ]
     },
     "execution_count": 13,
     "metadata": {},
     "output_type": "execute_result"
    }
   ],
   "source": [
    "sep_april_data.shape"
   ]
  },
  {
   "cell_type": "markdown",
   "id": "b6980ca0",
   "metadata": {},
   "source": [
    "#### filter for Mango  sales"
   ]
  },
  {
   "cell_type": "code",
   "execution_count": 16,
   "id": "57671ae4",
   "metadata": {},
   "outputs": [],
   "source": [
    "mango_data = (sep_april_data['BST_ITM_CD'] == '4202Mango')"
   ]
  },
  {
   "cell_type": "code",
   "execution_count": 17,
   "id": "75b52a09",
   "metadata": {},
   "outputs": [],
   "source": [
    "mango_data = sep_april_data[mango_data]"
   ]
  },
  {
   "cell_type": "code",
   "execution_count": 24,
   "id": "27fa9e3f",
   "metadata": {},
   "outputs": [
    {
     "name": "stdout",
     "output_type": "stream",
     "text": [
      "highest amount :  19578.0\n",
      "lowet amount :  1.5\n",
      "average amount :  21.65271729991608\n"
     ]
    }
   ],
   "source": [
    "print('highest amount : ',mango_data.BST_TOTAL_RETAIL.max())\n",
    "print('lowet amount : ',mango_data.BST_TOTAL_RETAIL.min())\n",
    "print('average amount : ',mango_data.BST_TOTAL_RETAIL.mean())"
   ]
  },
  {
   "cell_type": "markdown",
   "id": "6ab209ec",
   "metadata": {},
   "source": [
    "#### Filter for columns that will be used in the Linear Regression Model"
   ]
  },
  {
   "cell_type": "code",
   "execution_count": 17,
   "id": "e265cbfa",
   "metadata": {},
   "outputs": [],
   "source": [
    "mango_data = mango_data[['BST_TXN_DT_TIME','BST_QTY','BST_TYPE_OF_SALE', 'BST_TOTAL_RETAIL']]"
   ]
  },
  {
   "cell_type": "code",
   "execution_count": 18,
   "id": "decca8c6",
   "metadata": {},
   "outputs": [],
   "source": [
    "mango_data = mango_data.copy()"
   ]
  },
  {
   "cell_type": "markdown",
   "id": "2ce7eef4",
   "metadata": {},
   "source": [
    "### Data Preperation for the Model"
   ]
  },
  {
   "cell_type": "markdown",
   "id": "89d37c4a",
   "metadata": {},
   "source": [
    "##### coverting type of sale column to binary 0s and 1s , 0 being normal and 1 being promotions"
   ]
  },
  {
   "cell_type": "code",
   "execution_count": 19,
   "id": "cbbfae40",
   "metadata": {},
   "outputs": [],
   "source": [
    "mango_data['BST_TYPE_OF_SALE']= mango_data['BST_TYPE_OF_SALE'].apply(lambda x:1 if x =='NORMAL' else 0)"
   ]
  },
  {
   "cell_type": "markdown",
   "id": "95a1fc63",
   "metadata": {},
   "source": [
    "#### Convert the BST_TXN_DT_TIME from DATETIME to Integer Number as input in the model"
   ]
  },
  {
   "cell_type": "code",
   "execution_count": 20,
   "id": "0a7a3d26",
   "metadata": {},
   "outputs": [],
   "source": [
    "mango_data.loc[:,'BST_TXN_DT_TIME'] = pd.to_datetime(mango_data['BST_TXN_DT_TIME'])"
   ]
  },
  {
   "cell_type": "code",
   "execution_count": 21,
   "id": "4b8ad84b",
   "metadata": {},
   "outputs": [],
   "source": [
    "mango_data['BST_TXN_DT_TIME'] = mango_data['BST_TXN_DT_TIME'].apply(lambda x: x.timestamp())"
   ]
  },
  {
   "cell_type": "markdown",
   "id": "4d1085f5",
   "metadata": {},
   "source": [
    "#### Drop the BST_TXT_TYPE AS INDEX "
   ]
  },
  {
   "cell_type": "code",
   "execution_count": 22,
   "id": "17f613e4",
   "metadata": {},
   "outputs": [],
   "source": [
    "mango_data = mango_data.reset_index(drop=True)"
   ]
  },
  {
   "cell_type": "markdown",
   "id": "9dc3f819",
   "metadata": {},
   "source": [
    "#### define features and target variables of interes"
   ]
  },
  {
   "cell_type": "code",
   "execution_count": 23,
   "id": "5c34d2f6",
   "metadata": {},
   "outputs": [],
   "source": [
    "X = mango_data.iloc[:,0:3].values\n",
    "y= mango_data.iloc[:,-1:].values"
   ]
  },
  {
   "cell_type": "markdown",
   "id": "39332f5c",
   "metadata": {},
   "source": [
    "####  Split the data into training and testing"
   ]
  },
  {
   "cell_type": "code",
   "execution_count": 24,
   "id": "96255bdc",
   "metadata": {},
   "outputs": [],
   "source": [
    "X_train, X_test, y_train,y_test =train_test_split(X,y, test_size=0.2, random_state=42)"
   ]
  },
  {
   "cell_type": "markdown",
   "id": "b075e30d",
   "metadata": {},
   "source": [
    "#### Fit and train the LinearRegression Model"
   ]
  },
  {
   "cell_type": "code",
   "execution_count": 25,
   "id": "5716c0df",
   "metadata": {},
   "outputs": [
    {
     "data": {
      "text/html": [
       "<style>#sk-container-id-1 {color: black;background-color: white;}#sk-container-id-1 pre{padding: 0;}#sk-container-id-1 div.sk-toggleable {background-color: white;}#sk-container-id-1 label.sk-toggleable__label {cursor: pointer;display: block;width: 100%;margin-bottom: 0;padding: 0.3em;box-sizing: border-box;text-align: center;}#sk-container-id-1 label.sk-toggleable__label-arrow:before {content: \"▸\";float: left;margin-right: 0.25em;color: #696969;}#sk-container-id-1 label.sk-toggleable__label-arrow:hover:before {color: black;}#sk-container-id-1 div.sk-estimator:hover label.sk-toggleable__label-arrow:before {color: black;}#sk-container-id-1 div.sk-toggleable__content {max-height: 0;max-width: 0;overflow: hidden;text-align: left;background-color: #f0f8ff;}#sk-container-id-1 div.sk-toggleable__content pre {margin: 0.2em;color: black;border-radius: 0.25em;background-color: #f0f8ff;}#sk-container-id-1 input.sk-toggleable__control:checked~div.sk-toggleable__content {max-height: 200px;max-width: 100%;overflow: auto;}#sk-container-id-1 input.sk-toggleable__control:checked~label.sk-toggleable__label-arrow:before {content: \"▾\";}#sk-container-id-1 div.sk-estimator input.sk-toggleable__control:checked~label.sk-toggleable__label {background-color: #d4ebff;}#sk-container-id-1 div.sk-label input.sk-toggleable__control:checked~label.sk-toggleable__label {background-color: #d4ebff;}#sk-container-id-1 input.sk-hidden--visually {border: 0;clip: rect(1px 1px 1px 1px);clip: rect(1px, 1px, 1px, 1px);height: 1px;margin: -1px;overflow: hidden;padding: 0;position: absolute;width: 1px;}#sk-container-id-1 div.sk-estimator {font-family: monospace;background-color: #f0f8ff;border: 1px dotted black;border-radius: 0.25em;box-sizing: border-box;margin-bottom: 0.5em;}#sk-container-id-1 div.sk-estimator:hover {background-color: #d4ebff;}#sk-container-id-1 div.sk-parallel-item::after {content: \"\";width: 100%;border-bottom: 1px solid gray;flex-grow: 1;}#sk-container-id-1 div.sk-label:hover label.sk-toggleable__label {background-color: #d4ebff;}#sk-container-id-1 div.sk-serial::before {content: \"\";position: absolute;border-left: 1px solid gray;box-sizing: border-box;top: 0;bottom: 0;left: 50%;z-index: 0;}#sk-container-id-1 div.sk-serial {display: flex;flex-direction: column;align-items: center;background-color: white;padding-right: 0.2em;padding-left: 0.2em;position: relative;}#sk-container-id-1 div.sk-item {position: relative;z-index: 1;}#sk-container-id-1 div.sk-parallel {display: flex;align-items: stretch;justify-content: center;background-color: white;position: relative;}#sk-container-id-1 div.sk-item::before, #sk-container-id-1 div.sk-parallel-item::before {content: \"\";position: absolute;border-left: 1px solid gray;box-sizing: border-box;top: 0;bottom: 0;left: 50%;z-index: -1;}#sk-container-id-1 div.sk-parallel-item {display: flex;flex-direction: column;z-index: 1;position: relative;background-color: white;}#sk-container-id-1 div.sk-parallel-item:first-child::after {align-self: flex-end;width: 50%;}#sk-container-id-1 div.sk-parallel-item:last-child::after {align-self: flex-start;width: 50%;}#sk-container-id-1 div.sk-parallel-item:only-child::after {width: 0;}#sk-container-id-1 div.sk-dashed-wrapped {border: 1px dashed gray;margin: 0 0.4em 0.5em 0.4em;box-sizing: border-box;padding-bottom: 0.4em;background-color: white;}#sk-container-id-1 div.sk-label label {font-family: monospace;font-weight: bold;display: inline-block;line-height: 1.2em;}#sk-container-id-1 div.sk-label-container {text-align: center;}#sk-container-id-1 div.sk-container {/* jupyter's `normalize.less` sets `[hidden] { display: none; }` but bootstrap.min.css set `[hidden] { display: none !important; }` so we also need the `!important` here to be able to override the default hidden behavior on the sphinx rendered scikit-learn.org. See: https://github.com/scikit-learn/scikit-learn/issues/21755 */display: inline-block !important;position: relative;}#sk-container-id-1 div.sk-text-repr-fallback {display: none;}</style><div id=\"sk-container-id-1\" class=\"sk-top-container\"><div class=\"sk-text-repr-fallback\"><pre>LinearRegression()</pre><b>In a Jupyter environment, please rerun this cell to show the HTML representation or trust the notebook. <br />On GitHub, the HTML representation is unable to render, please try loading this page with nbviewer.org.</b></div><div class=\"sk-container\" hidden><div class=\"sk-item\"><div class=\"sk-estimator sk-toggleable\"><input class=\"sk-toggleable__control sk-hidden--visually\" id=\"sk-estimator-id-1\" type=\"checkbox\" checked><label for=\"sk-estimator-id-1\" class=\"sk-toggleable__label sk-toggleable__label-arrow\">LinearRegression</label><div class=\"sk-toggleable__content\"><pre>LinearRegression()</pre></div></div></div></div></div>"
      ],
      "text/plain": [
       "LinearRegression()"
      ]
     },
     "execution_count": 25,
     "metadata": {},
     "output_type": "execute_result"
    }
   ],
   "source": [
    "#fit the model\n",
    "model = LinearRegression()\n",
    "model.fit(X_train,y_train)"
   ]
  },
  {
   "cell_type": "code",
   "execution_count": 26,
   "id": "e4720d90",
   "metadata": {},
   "outputs": [],
   "source": [
    "y_pred = model.predict(X_test)"
   ]
  },
  {
   "cell_type": "markdown",
   "id": "7a315257",
   "metadata": {},
   "source": [
    "#### Performing Predictions"
   ]
  },
  {
   "cell_type": "code",
   "execution_count": 27,
   "id": "cadc28b2",
   "metadata": {},
   "outputs": [],
   "source": [
    "pred = [[1704085049, 200, 0]] "
   ]
  },
  {
   "cell_type": "code",
   "execution_count": 28,
   "id": "3f827204",
   "metadata": {},
   "outputs": [
    {
     "data": {
      "text/plain": [
       "array([[1463.34698888]])"
      ]
     },
     "execution_count": 28,
     "metadata": {},
     "output_type": "execute_result"
    }
   ],
   "source": [
    "model.predict(pred)"
   ]
  },
  {
   "cell_type": "markdown",
   "id": "658236f9",
   "metadata": {},
   "source": [
    "<p style='font-size:16px'> A relationship between actual and predicted values, in this graph the scatter reprents the predicted values and the line graph is actual value. The distance between Predicted Vs. Actual Values is measure the accuracy of the model in visualization</p>\n",
    "\n",
    "<p style='font-size:16px'> Explanation ; A positive Correlation ( Uptrend ) is depicted indicating a strong relationship between the predicted and actual\n",
    "values.</p><br>\n",
    "\n",
    "<p style='font-size:16px'> \n",
    "    1. The points clustering from 0- 7000 indicate the model can accurately predict values in that range. The conclution is the model performs well in predicting the target variable in that range. <br><br>\n",
    "2. The the cluster slighly spread as values increase, this indicates the model slighly becomes less accurate for higher values of the target varibles. </p> "
   ]
  },
  {
   "cell_type": "markdown",
   "id": "8c614f34",
   "metadata": {},
   "source": [
    "#### Used a scatter graph to chect the accuracy of the model using actual vs predicted values"
   ]
  },
  {
   "cell_type": "code",
   "execution_count": 49,
   "id": "1fc7806d",
   "metadata": {},
   "outputs": [
    {
     "data": {
      "image/png": "[encoded data removed]",
      "text/plain": [
       "<Figure size 432x288 with 1 Axes>"
      ]
     },
     "metadata": {
      "needs_background": "light"
     },
     "output_type": "display_data"
    }
   ],
   "source": [
    "plt.scatter(y_test, y_pred, label =\"Predicted values\")\n",
    "plt.plot(y_test,y_test, label = \"Actual values\", color ='purple')\n",
    "plt.xlabel('Actual  Values')\n",
    "plt.ylabel('Predicted  Values')\n",
    "plt.legend()\n",
    "plt.title('Actual vs Predicted Values')\n",
    "plt.show()"
   ]
  },
  {
   "cell_type": "markdown",
   "id": "b2b000af",
   "metadata": {},
   "source": [
    "##### Evaulate the model on the testing data and checking acccuracy using r2"
   ]
  },
  {
   "cell_type": "code",
   "execution_count": 40,
   "id": "640eee1a",
   "metadata": {},
   "outputs": [
    {
     "name": "stdout",
     "output_type": "stream",
     "text": [
      "r2 Score: 0.9974837757137128\n"
     ]
    }
   ],
   "source": [
    "from sklearn.metrics import r2_score\n",
    "r2 =r2_score(y_test, y_pred)\n",
    "print('r2 Score:',r2)"
   ]
  },
  {
   "cell_type": "code",
   "execution_count": 32,
   "id": "70924caa",
   "metadata": {},
   "outputs": [],
   "source": [
    "import seaborn as sns "
   ]
  },
  {
   "cell_type": "code",
   "execution_count": 39,
   "id": "49654561",
   "metadata": {},
   "outputs": [
    {
     "data": {
      "text/plain": [
       "<Axes: title={'center': 'Actual vs. Predicted'}, xlabel='Actual G*', ylabel='Predicted G*'>"
      ]
     },
     "execution_count": 39,
     "metadata": {},
     "output_type": "execute_result"
    },
    {
     "data": {
      "image/png": "[encoded data removed]",
      "text/plain": [
       "<Figure size 432x288 with 1 Axes>"
      ]
     },
     "metadata": {
      "needs_background": "light"
     },
     "output_type": "display_data"
    }
   ],
   "source": [
    "sns.regplot(y_train,y_train, label=\"Training Data\")\n",
    "\n",
    "plt.xlabel('Actual G*')\n",
    "plt.ylabel('Predicted G*')\n",
    "plt.title('Actual vs. Predicted')\n",
    "plt.legend(loc=\"upper left\")\n",
    "\n",
    "sns.regplot(y_test,y_pred, label=\"Testing Data\")"
   ]
  },
  {
   "cell_type": "markdown",
   "id": "502a898a",
   "metadata": {},
   "source": [
    "#### The Mean Squared Error measures how close the predicted values are to the actual values."
   ]
  },
  {
   "cell_type": "code",
   "execution_count": 41,
   "id": "b6d5ef2d",
   "metadata": {},
   "outputs": [
    {
     "name": "stdout",
     "output_type": "stream",
     "text": [
      "Mean Squared Error:  81.5102782979144\n"
     ]
    }
   ],
   "source": [
    "MSE = mean_squared_error(y_test,y_pred)\n",
    "print('Mean Squared Error: ', MSE)"
   ]
  },
  {
   "cell_type": "code",
   "execution_count": null,
   "id": "03f12693",
   "metadata": {},
   "outputs": [],
   "source": [
    "# Create the scatter plot\n",
    "plt.scatter(actual, predicted)\n",
    "\n",
    "# Add labels and title\n",
    "plt.xlabel('Actual Values')\n",
    "plt.ylabel('Predicted Values')\n",
    "plt.title('Actual vs. Predicted Values')\n",
    "\n",
    "# Add a diagonal line for reference (perfect predictions)\n",
    "plt.plot([min(actual), max(actual)], [min(actual), max(actual)], color='red', linestyle='--')\n",
    "\n",
    "# Show the plot\n",
    "plt.show()"
   ]
  }
 ],
 "metadata": {
  "kernelspec": {
   "display_name": "Python 3 (ipykernel)",
   "language": "python",
   "name": "python3"
  },
  "language_info": {
   "codemirror_mode": {
    "name": "ipython",
    "version": 3
   },
   "file_extension": ".py",
   "mimetype": "text/x-python",
   "name": "python",
   "nbconvert_exporter": "python",
   "pygments_lexer": "ipython3",
   "version": "3.9.7"
  }
 },
 "nbformat": 4,
 "nbformat_minor": 5
}
